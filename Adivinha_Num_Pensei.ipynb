{
  "nbformat": 4,
  "nbformat_minor": 0,
  "metadata": {
    "colab": {
      "name": "Adivinha_Num_Pensei.ipynb",
      "provenance": [],
      "authorship_tag": "ABX9TyNghiqBZ4sTqBALQg5SaXqP",
      "include_colab_link": true
    },
    "kernelspec": {
      "name": "python3",
      "display_name": "Python 3"
    }
  },
  "cells": [
    {
      "cell_type": "markdown",
      "metadata": {
        "id": "view-in-github",
        "colab_type": "text"
      },
      "source": [
        "<a href=\"https://colab.research.google.com/github/ClaudioSilva75/Phyton_Automatizando_Tarefas/blob/master/Adivinha_Num_Pensei.ipynb\" target=\"_parent\"><img src=\"https://colab.research.google.com/assets/colab-badge.svg\" alt=\"Open In Colab\"/></a>"
      ]
    },
    {
      "cell_type": "code",
      "metadata": {
        "id": "7execa6jNkzR",
        "colab_type": "code",
        "colab": {
          "base_uri": "https://localhost:8080/",
          "height": 311
        },
        "outputId": "1a28338b-9f35-4792-db9a-def133321b25"
      },
      "source": [
        "# Este é um jogo de adivinhar o número.\n",
        "import random\n",
        "secretNumber = random.randint(1, 20)\n",
        "print('Estou pensando em um número entre 1 e 20.')\n",
        "\n",
        "# Peça para o jogador adivinhar 6 vezes.\n",
        "for guessesTaken in range(1, 7):\n",
        "  print('Adivinhe o número que pensei.')\n",
        "  guess = int(input())\n",
        "  \n",
        "  if guess < secretNumber:\n",
        "    print('Seu palpite é muito baixo.')\n",
        "  elif guess > secretNumber:\n",
        "    print('Seu palpite é muito alto.')\n",
        "  else:\n",
        "      break # Esta condição corresponde ao palpite correto!\n",
        "\n",
        "if guess == secretNumber:\n",
        "  print('Bom trabalho! Você adivinhou meu número em ' + str(guessesTaken) + ' suposições!')\n",
        "else:\n",
        "  print('Não. O número que eu estava pensando era ' + str(secretNumber))"
      ],
      "execution_count": 5,
      "outputs": [
        {
          "output_type": "stream",
          "text": [
            "Estou pensando em um número entre 1 e 20.\n",
            "Adivinhe o número que pensei.\n",
            "5\n",
            "Seu palpite é muito baixo.\n",
            "Adivinhe o número que pensei.\n",
            "17\n",
            "Seu palpite é muito alto.\n",
            "Adivinhe o número que pensei.\n",
            "11\n",
            "Seu palpite é muito alto.\n",
            "Adivinhe o número que pensei.\n",
            "9\n",
            "Seu palpite é muito alto.\n",
            "Adivinhe o número que pensei.\n",
            "8\n",
            "Bom trabalho! Você adivinhou meu número em 5 suposições!\n"
          ],
          "name": "stdout"
        }
      ]
    }
  ]
}