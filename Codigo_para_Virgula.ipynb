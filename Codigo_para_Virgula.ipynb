{
  "nbformat": 4,
  "nbformat_minor": 0,
  "metadata": {
    "colab": {
      "name": "Codigo_para_Virgula.ipynb",
      "provenance": [],
      "collapsed_sections": [],
      "authorship_tag": "ABX9TyNNXED9XdHwWfShJ4IaH574",
      "include_colab_link": true
    },
    "kernelspec": {
      "name": "python3",
      "display_name": "Python 3"
    }
  },
  "cells": [
    {
      "cell_type": "markdown",
      "metadata": {
        "id": "view-in-github",
        "colab_type": "text"
      },
      "source": [
        "<a href=\"https://colab.research.google.com/github/ClaudioSilva75/Phyton_Automatizando_Tarefas/blob/master/Codigo_para_Virgula.ipynb\" target=\"_parent\"><img src=\"https://colab.research.google.com/assets/colab-badge.svg\" alt=\"Open In Colab\"/></a>"
      ]
    },
    {
      "cell_type": "code",
      "metadata": {
        "id": "PPip5kO5s5IX",
        "colab_type": "code",
        "colab": {
          "base_uri": "https://localhost:8080/",
          "height": 36
        },
        "outputId": "a7357bd3-d94d-48e9-dea7-c066e4f907b5"
      },
      "source": [
        "lista = ['maçã', 'banana', 'uva', 'laranja', 'abacate', 'mamão', 'framboesa', \"limão\", 'cereja']\n",
        "\n",
        "# Função que pega cada elemento da lista e a atribui na string frase,\n",
        "# com a inclusão de \"vírgulas\", \"espaço\", \"e\" e o \"ponto final\".\n",
        "\n",
        "def textoSeparadoVirgula(dado):\n",
        "  frase = ''\n",
        "  i = 0\n",
        "  while i < len(dado):\n",
        "    if i == len(dado) - 1:\n",
        "      frase = frase + dado[i] + \".\"\n",
        "    elif i == len(dado) - 2:\n",
        "      frase = frase + dado[i] + \" e \"\n",
        "    else:\n",
        "      frase = frase + dado[i] + \", \"\n",
        "\n",
        "    i = i + 1\n",
        "  \n",
        "  # retorna a frase completa ao final das iterações\n",
        "  return(frase)\n",
        "\n",
        "# Chamada à função tendo como parâmetro a lista\n",
        "textoSeparadoVirgula(lista)\n"
      ],
      "execution_count": 62,
      "outputs": [
        {
          "output_type": "execute_result",
          "data": {
            "application/vnd.google.colaboratory.intrinsic+json": {
              "type": "string"
            },
            "text/plain": [
              "'maçã, banana, uva, laranja, abacate, mamão, framboesa, limão e cereja.'"
            ]
          },
          "metadata": {
            "tags": []
          },
          "execution_count": 62
        }
      ]
    }
  ]
}