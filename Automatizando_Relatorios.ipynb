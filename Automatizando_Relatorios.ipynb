{
  "nbformat": 4,
  "nbformat_minor": 0,
  "metadata": {
    "colab": {
      "name": "Automatizando_Relatorios.ipynb",
      "provenance": [],
      "collapsed_sections": [],
      "authorship_tag": "ABX9TyM3vCiw6X4YiqLxODLDEFWv",
      "include_colab_link": true
    },
    "kernelspec": {
      "name": "python3",
      "display_name": "Python 3"
    }
  },
  "cells": [
    {
      "cell_type": "markdown",
      "metadata": {
        "id": "view-in-github",
        "colab_type": "text"
      },
      "source": [
        "<a href=\"https://colab.research.google.com/github/ClaudioSilva75/Phyton_Automatizando_Tarefas/blob/master/Automatizando_Relatorios.ipynb\" target=\"_parent\"><img src=\"https://colab.research.google.com/assets/colab-badge.svg\" alt=\"Open In Colab\"/></a>"
      ]
    },
    {
      "cell_type": "code",
      "metadata": {
        "id": "Ikcbf5Jli30B",
        "colab_type": "code",
        "colab": {}
      },
      "source": [
        "pip install pdf_reports -q"
      ],
      "execution_count": 97,
      "outputs": []
    },
    {
      "cell_type": "code",
      "metadata": {
        "id": "_hd1vaqFjAqy",
        "colab_type": "code",
        "colab": {}
      },
      "source": [
        "import pandas as pd\n",
        "from datetime import datetime\n",
        "from pdf_reports import pug_to_html, write_report"
      ],
      "execution_count": 99,
      "outputs": []
    },
    {
      "cell_type": "code",
      "metadata": {
        "id": "IZoE2B1n5YOH",
        "colab_type": "code",
        "colab": {}
      },
      "source": [
        "planilha = pd.read_excel('/content/controle_de_abacates_atualizado.xlsx')"
      ],
      "execution_count": 100,
      "outputs": []
    },
    {
      "cell_type": "code",
      "metadata": {
        "id": "2gCgcQy56Dbd",
        "colab_type": "code",
        "colab": {
          "base_uri": "https://localhost:8080/",
          "height": 424
        },
        "outputId": "5824664b-f9d7-45f6-db99-4379a33eb152"
      },
      "source": [
        "planilha"
      ],
      "execution_count": 101,
      "outputs": [
        {
          "output_type": "execute_result",
          "data": {
            "text/html": [
              "<div>\n",
              "<style scoped>\n",
              "    .dataframe tbody tr th:only-of-type {\n",
              "        vertical-align: middle;\n",
              "    }\n",
              "\n",
              "    .dataframe tbody tr th {\n",
              "        vertical-align: top;\n",
              "    }\n",
              "\n",
              "    .dataframe thead th {\n",
              "        text-align: right;\n",
              "    }\n",
              "</style>\n",
              "<table border=\"1\" class=\"dataframe\">\n",
              "  <thead>\n",
              "    <tr style=\"text-align: right;\">\n",
              "      <th></th>\n",
              "      <th>id</th>\n",
              "      <th>data</th>\n",
              "      <th>preco_medio</th>\n",
              "      <th>volume_total</th>\n",
              "      <th>tipo</th>\n",
              "      <th>ano</th>\n",
              "    </tr>\n",
              "  </thead>\n",
              "  <tbody>\n",
              "    <tr>\n",
              "      <th>0</th>\n",
              "      <td>1</td>\n",
              "      <td>2017-01-01</td>\n",
              "      <td>2.06</td>\n",
              "      <td>39260.55</td>\n",
              "      <td>Orgânico</td>\n",
              "      <td>2017</td>\n",
              "    </tr>\n",
              "    <tr>\n",
              "      <th>1</th>\n",
              "      <td>2</td>\n",
              "      <td>2017-01-08</td>\n",
              "      <td>2.15</td>\n",
              "      <td>42755.80</td>\n",
              "      <td>Orgânico</td>\n",
              "      <td>2017</td>\n",
              "    </tr>\n",
              "    <tr>\n",
              "      <th>2</th>\n",
              "      <td>3</td>\n",
              "      <td>2017-01-15</td>\n",
              "      <td>2.09</td>\n",
              "      <td>42233.25</td>\n",
              "      <td>Orgânico</td>\n",
              "      <td>2017</td>\n",
              "    </tr>\n",
              "    <tr>\n",
              "      <th>3</th>\n",
              "      <td>4</td>\n",
              "      <td>2017-01-22</td>\n",
              "      <td>2.05</td>\n",
              "      <td>49056.11</td>\n",
              "      <td>Orgânico</td>\n",
              "      <td>2017</td>\n",
              "    </tr>\n",
              "    <tr>\n",
              "      <th>4</th>\n",
              "      <td>5</td>\n",
              "      <td>2017-01-29</td>\n",
              "      <td>2.08</td>\n",
              "      <td>46602.16</td>\n",
              "      <td>Convencional</td>\n",
              "      <td>2017</td>\n",
              "    </tr>\n",
              "    <tr>\n",
              "      <th>...</th>\n",
              "      <td>...</td>\n",
              "      <td>...</td>\n",
              "      <td>...</td>\n",
              "      <td>...</td>\n",
              "      <td>...</td>\n",
              "      <td>...</td>\n",
              "    </tr>\n",
              "    <tr>\n",
              "      <th>67</th>\n",
              "      <td>68</td>\n",
              "      <td>2018-04-15</td>\n",
              "      <td>1.59</td>\n",
              "      <td>71760.69</td>\n",
              "      <td>Orgânico</td>\n",
              "      <td>2018</td>\n",
              "    </tr>\n",
              "    <tr>\n",
              "      <th>68</th>\n",
              "      <td>69</td>\n",
              "      <td>2018-04-22</td>\n",
              "      <td>1.70</td>\n",
              "      <td>96380.28</td>\n",
              "      <td>Orgânico</td>\n",
              "      <td>2018</td>\n",
              "    </tr>\n",
              "    <tr>\n",
              "      <th>69</th>\n",
              "      <td>70</td>\n",
              "      <td>2018-04-29</td>\n",
              "      <td>1.90</td>\n",
              "      <td>74312.90</td>\n",
              "      <td>Convencional</td>\n",
              "      <td>2018</td>\n",
              "    </tr>\n",
              "    <tr>\n",
              "      <th>70</th>\n",
              "      <td>71</td>\n",
              "      <td>2018-05-06</td>\n",
              "      <td>1.84</td>\n",
              "      <td>68466.86</td>\n",
              "      <td>Convencional</td>\n",
              "      <td>2018</td>\n",
              "    </tr>\n",
              "    <tr>\n",
              "      <th>71</th>\n",
              "      <td>72</td>\n",
              "      <td>2018-05-13</td>\n",
              "      <td>1.65</td>\n",
              "      <td>74312.90</td>\n",
              "      <td>Convencional</td>\n",
              "      <td>2018</td>\n",
              "    </tr>\n",
              "  </tbody>\n",
              "</table>\n",
              "<p>72 rows × 6 columns</p>\n",
              "</div>"
            ],
            "text/plain": [
              "    id       data  preco_medio  volume_total          tipo   ano\n",
              "0    1 2017-01-01         2.06      39260.55      Orgânico  2017\n",
              "1    2 2017-01-08         2.15      42755.80      Orgânico  2017\n",
              "2    3 2017-01-15         2.09      42233.25      Orgânico  2017\n",
              "3    4 2017-01-22         2.05      49056.11      Orgânico  2017\n",
              "4    5 2017-01-29         2.08      46602.16  Convencional  2017\n",
              "..  ..        ...          ...           ...           ...   ...\n",
              "67  68 2018-04-15         1.59      71760.69      Orgânico  2018\n",
              "68  69 2018-04-22         1.70      96380.28      Orgânico  2018\n",
              "69  70 2018-04-29         1.90      74312.90  Convencional  2018\n",
              "70  71 2018-05-06         1.84      68466.86  Convencional  2018\n",
              "71  72 2018-05-13         1.65      74312.90  Convencional  2018\n",
              "\n",
              "[72 rows x 6 columns]"
            ]
          },
          "metadata": {
            "tags": []
          },
          "execution_count": 101
        }
      ]
    },
    {
      "cell_type": "code",
      "metadata": {
        "id": "KZCugdrM6G17",
        "colab_type": "code",
        "colab": {}
      },
      "source": [
        "hoje = datetime.now().date()"
      ],
      "execution_count": 102,
      "outputs": []
    },
    {
      "cell_type": "code",
      "metadata": {
        "id": "zIONc5gz6wMF",
        "colab_type": "code",
        "colab": {
          "base_uri": "https://localhost:8080/",
          "height": 35
        },
        "outputId": "39955407-6b5c-4e54-9fc5-1c34918f6c43"
      },
      "source": [
        "print(hoje)"
      ],
      "execution_count": 103,
      "outputs": [
        {
          "output_type": "stream",
          "text": [
            "2020-08-17\n"
          ],
          "name": "stdout"
        }
      ]
    },
    {
      "cell_type": "code",
      "metadata": {
        "id": "WA9rp7GREWea",
        "colab_type": "code",
        "colab": {
          "base_uri": "https://localhost:8080/",
          "height": 35
        },
        "outputId": "596cce45-8969-439a-e8e6-844fb849e091"
      },
      "source": [
        "print(type(hoje))"
      ],
      "execution_count": 104,
      "outputs": [
        {
          "output_type": "stream",
          "text": [
            "<class 'datetime.date'>\n"
          ],
          "name": "stdout"
        }
      ]
    },
    {
      "cell_type": "code",
      "metadata": {
        "id": "leYG373SEmyh",
        "colab_type": "code",
        "colab": {
          "base_uri": "https://localhost:8080/",
          "height": 54
        },
        "outputId": "4b8e36e6-7b29-417e-9983-397edced3fe0"
      },
      "source": [
        "# Converte data em texto\n",
        "#data = datetime.strptime(str(hoje),'%Y-%m-%d').date()\n",
        "#print(data)\n",
        "#print(type(data))\n",
        "\n",
        "# Converte data em texto e mantém a formatação (Ano-mês-dia)\n",
        "dataFormatada = hoje.strftime('%Y-%m-%d')\n",
        "\n",
        "print(dataFormatada)\n",
        "\n",
        "print(type(dataFormatada))\n",
        "\n"
      ],
      "execution_count": 105,
      "outputs": [
        {
          "output_type": "stream",
          "text": [
            "2020-08-17\n",
            "<class 'str'>\n"
          ],
          "name": "stdout"
        }
      ]
    },
    {
      "cell_type": "code",
      "metadata": {
        "id": "gfO-YCiR63wE",
        "colab_type": "code",
        "colab": {
          "base_uri": "https://localhost:8080/",
          "height": 291
        },
        "outputId": "866625cf-df6c-46c9-9a1c-88650b79cbd3"
      },
      "source": [
        "html = pug_to_html('/content/modelo_de_relatorio.pug',\n",
        "                   planilha=planilha,\n",
        "                   hoje=hoje)"
      ],
      "execution_count": 106,
      "outputs": [
        {
          "output_type": "display_data",
          "data": {
            "image/png": "[encoded data removed]",
            "text/plain": [
              "<Figure size 432x288 with 1 Axes>"
            ]
          },
          "metadata": {
            "tags": [],
            "needs_background": "light"
          }
        }
      ]
    },
    {
      "cell_type": "code",
      "metadata": {
        "id": "-H8RJ7447leL",
        "colab_type": "code",
        "colab": {}
      },
      "source": [
        "# Converte o arquivo HTML em PDF:\n",
        "# Incluída a data do dia no nome do relatório\n",
        "write_report(html,'controle_abacates_relatório_'+dataFormatada+'.pdf')"
      ],
      "execution_count": 108,
      "outputs": []
    }
  ]
}